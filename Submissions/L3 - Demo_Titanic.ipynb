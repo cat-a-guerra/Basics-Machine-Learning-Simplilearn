{
  "nbformat": 4,
  "nbformat_minor": 0,
  "metadata": {
    "colab": {
      "provenance": []
    },
    "kernelspec": {
      "name": "python3",
      "display_name": "Python 3"
    },
    "language_info": {
      "name": "python"
    }
  },
  "cells": [
    {
      "cell_type": "code",
      "execution_count": 15,
      "metadata": {
        "id": "i-tWGbzUZnmP"
      },
      "outputs": [],
      "source": [
        "# Import required libraries\n",
        "import pandas as pd\n",
        "import numpy as np\n",
        "import matplotlib\n",
        "import matplotlib.pyplot as plt\n",
        "from pandas.plotting import scatter_matrix\n",
        "\n",
        "%matplotlib inline\n",
        "\n",
        "import seaborn as sns\n",
        "sns.set(style='white', color_codes=True) \n",
        "sns.set(font_scale=1.5) \n",
        "\n",
        "from sklearn.linear_model import LogisticRegression\n",
        "from sklearn.model_selection import train_test_split\n",
        "\n",
        "from sklearn.metrics import confusion_matrix\n",
        "from sklearn.metrics import classification_report\n",
        "from sklearn.metrics import accuracy_score\n",
        "from sklearn.metrics import precision_score\n",
        "from sklearn.metrics import recall_score\n",
        "from sklearn.metrics import f1_score\n",
        "from sklearn import metrics"
      ]
    },
    {
      "cell_type": "code",
      "source": [
        "# Read training dataset\n",
        "df_train = pd.read_csv('titanic_train.csv')\n",
        "print(\"Training dataset shape:\", df_train.shape)"
      ],
      "metadata": {
        "id": "GOK2nFjBZ-ia",
        "colab": {
          "base_uri": "https://localhost:8080/"
        },
        "outputId": "bab29ab8-79e4-4832-da78-662902a3e148"
      },
      "execution_count": 3,
      "outputs": [
        {
          "output_type": "stream",
          "name": "stdout",
          "text": [
            "Training dataset shape: (891, 12)\n"
          ]
        }
      ]
    },
    {
      "cell_type": "code",
      "source": [
        "# Investigate different values per column of the Survived column\n",
        "df_train.Survived.value_counts()"
      ],
      "metadata": {
        "id": "0sHTVJlsZ-f7",
        "colab": {
          "base_uri": "https://localhost:8080/"
        },
        "outputId": "20e3df5c-8b50-4c55-f445-3f6ef42ec134"
      },
      "execution_count": 4,
      "outputs": [
        {
          "output_type": "execute_result",
          "data": {
            "text/plain": [
              "0    549\n",
              "1    342\n",
              "Name: Survived, dtype: int64"
            ]
          },
          "metadata": {},
          "execution_count": 4
        }
      ]
    },
    {
      "cell_type": "code",
      "source": [
        "# Count how many people of each gender there are\n",
        "df_train.Sex.value_counts()"
      ],
      "metadata": {
        "id": "s2HinrwGZ-c6",
        "colab": {
          "base_uri": "https://localhost:8080/"
        },
        "outputId": "36f0d5c7-1b41-4a4d-8844-ea59a046b2a6"
      },
      "execution_count": 5,
      "outputs": [
        {
          "output_type": "execute_result",
          "data": {
            "text/plain": [
              "male      577\n",
              "female    314\n",
              "Name: Sex, dtype: int64"
            ]
          },
          "metadata": {},
          "execution_count": 5
        }
      ]
    },
    {
      "cell_type": "code",
      "source": [
        "# Count how many occurrences for the Embarked column there are\n",
        "df_train.Embarked.value_counts()"
      ],
      "metadata": {
        "id": "1Txtje7zZ-Vb",
        "colab": {
          "base_uri": "https://localhost:8080/"
        },
        "outputId": "8d4ce944-abcf-49c1-a1e0-40b1e86aa709"
      },
      "execution_count": 6,
      "outputs": [
        {
          "output_type": "execute_result",
          "data": {
            "text/plain": [
              "S    644\n",
              "C    168\n",
              "Q     77\n",
              "Name: Embarked, dtype: int64"
            ]
          },
          "metadata": {},
          "execution_count": 6
        }
      ]
    },
    {
      "cell_type": "code",
      "source": [
        "# Check for missing values in the training set\n",
        "df_train.isnull().sum()\n",
        "\n",
        "# There are missing values in Age and Cabin"
      ],
      "metadata": {
        "id": "vOYwK_D3Z-M6",
        "colab": {
          "base_uri": "https://localhost:8080/"
        },
        "outputId": "ee7bbf21-461a-45be-efcc-15f53a0ff612"
      },
      "execution_count": 8,
      "outputs": [
        {
          "output_type": "execute_result",
          "data": {
            "text/plain": [
              "PassengerId      0\n",
              "Survived         0\n",
              "Pclass           0\n",
              "Name             0\n",
              "Sex              0\n",
              "Age            177\n",
              "SibSp            0\n",
              "Parch            0\n",
              "Ticket           0\n",
              "Fare             0\n",
              "Cabin          687\n",
              "Embarked         2\n",
              "dtype: int64"
            ]
          },
          "metadata": {},
          "execution_count": 8
        }
      ]
    },
    {
      "cell_type": "code",
      "source": [
        "# Drop irrelevant columns\n",
        "df_train = df_train.drop(['PassengerId', 'Name', 'Ticket', 'Cabin'], axis=1)\n",
        "df_train.head()"
      ],
      "metadata": {
        "id": "LCxfgXgDcrfq",
        "colab": {
          "base_uri": "https://localhost:8080/",
          "height": 206
        },
        "outputId": "e2f4f69b-af02-473a-b4eb-1615799f8709"
      },
      "execution_count": 9,
      "outputs": [
        {
          "output_type": "execute_result",
          "data": {
            "text/plain": [
              "   Survived  Pclass     Sex   Age  SibSp  Parch     Fare Embarked\n",
              "0         0       3    male  22.0      1      0   7.2500        S\n",
              "1         1       1  female  38.0      1      0  71.2833        C\n",
              "2         1       3  female  26.0      0      0   7.9250        S\n",
              "3         1       1  female  35.0      1      0  53.1000        S\n",
              "4         0       3    male  35.0      0      0   8.0500        S"
            ],
            "text/html": [
              "\n",
              "  <div id=\"df-4ff2fc91-9acc-46e7-aac0-ee440001862c\">\n",
              "    <div class=\"colab-df-container\">\n",
              "      <div>\n",
              "<style scoped>\n",
              "    .dataframe tbody tr th:only-of-type {\n",
              "        vertical-align: middle;\n",
              "    }\n",
              "\n",
              "    .dataframe tbody tr th {\n",
              "        vertical-align: top;\n",
              "    }\n",
              "\n",
              "    .dataframe thead th {\n",
              "        text-align: right;\n",
              "    }\n",
              "</style>\n",
              "<table border=\"1\" class=\"dataframe\">\n",
              "  <thead>\n",
              "    <tr style=\"text-align: right;\">\n",
              "      <th></th>\n",
              "      <th>Survived</th>\n",
              "      <th>Pclass</th>\n",
              "      <th>Sex</th>\n",
              "      <th>Age</th>\n",
              "      <th>SibSp</th>\n",
              "      <th>Parch</th>\n",
              "      <th>Fare</th>\n",
              "      <th>Embarked</th>\n",
              "    </tr>\n",
              "  </thead>\n",
              "  <tbody>\n",
              "    <tr>\n",
              "      <th>0</th>\n",
              "      <td>0</td>\n",
              "      <td>3</td>\n",
              "      <td>male</td>\n",
              "      <td>22.0</td>\n",
              "      <td>1</td>\n",
              "      <td>0</td>\n",
              "      <td>7.2500</td>\n",
              "      <td>S</td>\n",
              "    </tr>\n",
              "    <tr>\n",
              "      <th>1</th>\n",
              "      <td>1</td>\n",
              "      <td>1</td>\n",
              "      <td>female</td>\n",
              "      <td>38.0</td>\n",
              "      <td>1</td>\n",
              "      <td>0</td>\n",
              "      <td>71.2833</td>\n",
              "      <td>C</td>\n",
              "    </tr>\n",
              "    <tr>\n",
              "      <th>2</th>\n",
              "      <td>1</td>\n",
              "      <td>3</td>\n",
              "      <td>female</td>\n",
              "      <td>26.0</td>\n",
              "      <td>0</td>\n",
              "      <td>0</td>\n",
              "      <td>7.9250</td>\n",
              "      <td>S</td>\n",
              "    </tr>\n",
              "    <tr>\n",
              "      <th>3</th>\n",
              "      <td>1</td>\n",
              "      <td>1</td>\n",
              "      <td>female</td>\n",
              "      <td>35.0</td>\n",
              "      <td>1</td>\n",
              "      <td>0</td>\n",
              "      <td>53.1000</td>\n",
              "      <td>S</td>\n",
              "    </tr>\n",
              "    <tr>\n",
              "      <th>4</th>\n",
              "      <td>0</td>\n",
              "      <td>3</td>\n",
              "      <td>male</td>\n",
              "      <td>35.0</td>\n",
              "      <td>0</td>\n",
              "      <td>0</td>\n",
              "      <td>8.0500</td>\n",
              "      <td>S</td>\n",
              "    </tr>\n",
              "  </tbody>\n",
              "</table>\n",
              "</div>\n",
              "      <button class=\"colab-df-convert\" onclick=\"convertToInteractive('df-4ff2fc91-9acc-46e7-aac0-ee440001862c')\"\n",
              "              title=\"Convert this dataframe to an interactive table.\"\n",
              "              style=\"display:none;\">\n",
              "        \n",
              "  <svg xmlns=\"http://www.w3.org/2000/svg\" height=\"24px\"viewBox=\"0 0 24 24\"\n",
              "       width=\"24px\">\n",
              "    <path d=\"M0 0h24v24H0V0z\" fill=\"none\"/>\n",
              "    <path d=\"M18.56 5.44l.94 2.06.94-2.06 2.06-.94-2.06-.94-.94-2.06-.94 2.06-2.06.94zm-11 1L8.5 8.5l.94-2.06 2.06-.94-2.06-.94L8.5 2.5l-.94 2.06-2.06.94zm10 10l.94 2.06.94-2.06 2.06-.94-2.06-.94-.94-2.06-.94 2.06-2.06.94z\"/><path d=\"M17.41 7.96l-1.37-1.37c-.4-.4-.92-.59-1.43-.59-.52 0-1.04.2-1.43.59L10.3 9.45l-7.72 7.72c-.78.78-.78 2.05 0 2.83L4 21.41c.39.39.9.59 1.41.59.51 0 1.02-.2 1.41-.59l7.78-7.78 2.81-2.81c.8-.78.8-2.07 0-2.86zM5.41 20L4 18.59l7.72-7.72 1.47 1.35L5.41 20z\"/>\n",
              "  </svg>\n",
              "      </button>\n",
              "      \n",
              "  <style>\n",
              "    .colab-df-container {\n",
              "      display:flex;\n",
              "      flex-wrap:wrap;\n",
              "      gap: 12px;\n",
              "    }\n",
              "\n",
              "    .colab-df-convert {\n",
              "      background-color: #E8F0FE;\n",
              "      border: none;\n",
              "      border-radius: 50%;\n",
              "      cursor: pointer;\n",
              "      display: none;\n",
              "      fill: #1967D2;\n",
              "      height: 32px;\n",
              "      padding: 0 0 0 0;\n",
              "      width: 32px;\n",
              "    }\n",
              "\n",
              "    .colab-df-convert:hover {\n",
              "      background-color: #E2EBFA;\n",
              "      box-shadow: 0px 1px 2px rgba(60, 64, 67, 0.3), 0px 1px 3px 1px rgba(60, 64, 67, 0.15);\n",
              "      fill: #174EA6;\n",
              "    }\n",
              "\n",
              "    [theme=dark] .colab-df-convert {\n",
              "      background-color: #3B4455;\n",
              "      fill: #D2E3FC;\n",
              "    }\n",
              "\n",
              "    [theme=dark] .colab-df-convert:hover {\n",
              "      background-color: #434B5C;\n",
              "      box-shadow: 0px 1px 3px 1px rgba(0, 0, 0, 0.15);\n",
              "      filter: drop-shadow(0px 1px 2px rgba(0, 0, 0, 0.3));\n",
              "      fill: #FFFFFF;\n",
              "    }\n",
              "  </style>\n",
              "\n",
              "      <script>\n",
              "        const buttonEl =\n",
              "          document.querySelector('#df-4ff2fc91-9acc-46e7-aac0-ee440001862c button.colab-df-convert');\n",
              "        buttonEl.style.display =\n",
              "          google.colab.kernel.accessAllowed ? 'block' : 'none';\n",
              "\n",
              "        async function convertToInteractive(key) {\n",
              "          const element = document.querySelector('#df-4ff2fc91-9acc-46e7-aac0-ee440001862c');\n",
              "          const dataTable =\n",
              "            await google.colab.kernel.invokeFunction('convertToInteractive',\n",
              "                                                     [key], {});\n",
              "          if (!dataTable) return;\n",
              "\n",
              "          const docLinkHtml = 'Like what you see? Visit the ' +\n",
              "            '<a target=\"_blank\" href=https://colab.research.google.com/notebooks/data_table.ipynb>data table notebook</a>'\n",
              "            + ' to learn more about interactive tables.';\n",
              "          element.innerHTML = '';\n",
              "          dataTable['output_type'] = 'display_data';\n",
              "          await google.colab.output.renderOutput(dataTable, element);\n",
              "          const docLink = document.createElement('div');\n",
              "          docLink.innerHTML = docLinkHtml;\n",
              "          element.appendChild(docLink);\n",
              "        }\n",
              "      </script>\n",
              "    </div>\n",
              "  </div>\n",
              "  "
            ]
          },
          "metadata": {},
          "execution_count": 9
        }
      ]
    },
    {
      "cell_type": "code",
      "source": [
        "# Function to deal with missing values of Age variable, by assigning values according to passenger class according to the each class mean\n",
        "def age_approx(cols):\n",
        "  Age = cols[0]\n",
        "  Pclass = cols[1]\n",
        "\n",
        "  if pd.isnull(Age):\n",
        "    if Pclass==1:\n",
        "      return 37\n",
        "    elif Pclass==2:\n",
        "      return 29\n",
        "    else: \n",
        "      return 24\n",
        "  else:\n",
        "    return Age"
      ],
      "metadata": {
        "id": "_0dTHtu-cr0O"
      },
      "execution_count": 10,
      "outputs": []
    },
    {
      "cell_type": "code",
      "source": [
        "# Show the mean of its column grouped by Pclass\n",
        "df_train.groupby(['Pclass']).mean()"
      ],
      "metadata": {
        "id": "aDsgCCNwcsGu",
        "colab": {
          "base_uri": "https://localhost:8080/",
          "height": 175
        },
        "outputId": "27705222-620f-4822-c3d6-15eb97252a3d"
      },
      "execution_count": 11,
      "outputs": [
        {
          "output_type": "execute_result",
          "data": {
            "text/plain": [
              "        Survived        Age     SibSp     Parch       Fare\n",
              "Pclass                                                    \n",
              "1       0.629630  38.233441  0.416667  0.356481  84.154687\n",
              "2       0.472826  29.877630  0.402174  0.380435  20.662183\n",
              "3       0.242363  25.140620  0.615071  0.393075  13.675550"
            ],
            "text/html": [
              "\n",
              "  <div id=\"df-22223956-d45d-49e7-8a48-666da59030eb\">\n",
              "    <div class=\"colab-df-container\">\n",
              "      <div>\n",
              "<style scoped>\n",
              "    .dataframe tbody tr th:only-of-type {\n",
              "        vertical-align: middle;\n",
              "    }\n",
              "\n",
              "    .dataframe tbody tr th {\n",
              "        vertical-align: top;\n",
              "    }\n",
              "\n",
              "    .dataframe thead th {\n",
              "        text-align: right;\n",
              "    }\n",
              "</style>\n",
              "<table border=\"1\" class=\"dataframe\">\n",
              "  <thead>\n",
              "    <tr style=\"text-align: right;\">\n",
              "      <th></th>\n",
              "      <th>Survived</th>\n",
              "      <th>Age</th>\n",
              "      <th>SibSp</th>\n",
              "      <th>Parch</th>\n",
              "      <th>Fare</th>\n",
              "    </tr>\n",
              "    <tr>\n",
              "      <th>Pclass</th>\n",
              "      <th></th>\n",
              "      <th></th>\n",
              "      <th></th>\n",
              "      <th></th>\n",
              "      <th></th>\n",
              "    </tr>\n",
              "  </thead>\n",
              "  <tbody>\n",
              "    <tr>\n",
              "      <th>1</th>\n",
              "      <td>0.629630</td>\n",
              "      <td>38.233441</td>\n",
              "      <td>0.416667</td>\n",
              "      <td>0.356481</td>\n",
              "      <td>84.154687</td>\n",
              "    </tr>\n",
              "    <tr>\n",
              "      <th>2</th>\n",
              "      <td>0.472826</td>\n",
              "      <td>29.877630</td>\n",
              "      <td>0.402174</td>\n",
              "      <td>0.380435</td>\n",
              "      <td>20.662183</td>\n",
              "    </tr>\n",
              "    <tr>\n",
              "      <th>3</th>\n",
              "      <td>0.242363</td>\n",
              "      <td>25.140620</td>\n",
              "      <td>0.615071</td>\n",
              "      <td>0.393075</td>\n",
              "      <td>13.675550</td>\n",
              "    </tr>\n",
              "  </tbody>\n",
              "</table>\n",
              "</div>\n",
              "      <button class=\"colab-df-convert\" onclick=\"convertToInteractive('df-22223956-d45d-49e7-8a48-666da59030eb')\"\n",
              "              title=\"Convert this dataframe to an interactive table.\"\n",
              "              style=\"display:none;\">\n",
              "        \n",
              "  <svg xmlns=\"http://www.w3.org/2000/svg\" height=\"24px\"viewBox=\"0 0 24 24\"\n",
              "       width=\"24px\">\n",
              "    <path d=\"M0 0h24v24H0V0z\" fill=\"none\"/>\n",
              "    <path d=\"M18.56 5.44l.94 2.06.94-2.06 2.06-.94-2.06-.94-.94-2.06-.94 2.06-2.06.94zm-11 1L8.5 8.5l.94-2.06 2.06-.94-2.06-.94L8.5 2.5l-.94 2.06-2.06.94zm10 10l.94 2.06.94-2.06 2.06-.94-2.06-.94-.94-2.06-.94 2.06-2.06.94z\"/><path d=\"M17.41 7.96l-1.37-1.37c-.4-.4-.92-.59-1.43-.59-.52 0-1.04.2-1.43.59L10.3 9.45l-7.72 7.72c-.78.78-.78 2.05 0 2.83L4 21.41c.39.39.9.59 1.41.59.51 0 1.02-.2 1.41-.59l7.78-7.78 2.81-2.81c.8-.78.8-2.07 0-2.86zM5.41 20L4 18.59l7.72-7.72 1.47 1.35L5.41 20z\"/>\n",
              "  </svg>\n",
              "      </button>\n",
              "      \n",
              "  <style>\n",
              "    .colab-df-container {\n",
              "      display:flex;\n",
              "      flex-wrap:wrap;\n",
              "      gap: 12px;\n",
              "    }\n",
              "\n",
              "    .colab-df-convert {\n",
              "      background-color: #E8F0FE;\n",
              "      border: none;\n",
              "      border-radius: 50%;\n",
              "      cursor: pointer;\n",
              "      display: none;\n",
              "      fill: #1967D2;\n",
              "      height: 32px;\n",
              "      padding: 0 0 0 0;\n",
              "      width: 32px;\n",
              "    }\n",
              "\n",
              "    .colab-df-convert:hover {\n",
              "      background-color: #E2EBFA;\n",
              "      box-shadow: 0px 1px 2px rgba(60, 64, 67, 0.3), 0px 1px 3px 1px rgba(60, 64, 67, 0.15);\n",
              "      fill: #174EA6;\n",
              "    }\n",
              "\n",
              "    [theme=dark] .colab-df-convert {\n",
              "      background-color: #3B4455;\n",
              "      fill: #D2E3FC;\n",
              "    }\n",
              "\n",
              "    [theme=dark] .colab-df-convert:hover {\n",
              "      background-color: #434B5C;\n",
              "      box-shadow: 0px 1px 3px 1px rgba(0, 0, 0, 0.15);\n",
              "      filter: drop-shadow(0px 1px 2px rgba(0, 0, 0, 0.3));\n",
              "      fill: #FFFFFF;\n",
              "    }\n",
              "  </style>\n",
              "\n",
              "      <script>\n",
              "        const buttonEl =\n",
              "          document.querySelector('#df-22223956-d45d-49e7-8a48-666da59030eb button.colab-df-convert');\n",
              "        buttonEl.style.display =\n",
              "          google.colab.kernel.accessAllowed ? 'block' : 'none';\n",
              "\n",
              "        async function convertToInteractive(key) {\n",
              "          const element = document.querySelector('#df-22223956-d45d-49e7-8a48-666da59030eb');\n",
              "          const dataTable =\n",
              "            await google.colab.kernel.invokeFunction('convertToInteractive',\n",
              "                                                     [key], {});\n",
              "          if (!dataTable) return;\n",
              "\n",
              "          const docLinkHtml = 'Like what you see? Visit the ' +\n",
              "            '<a target=\"_blank\" href=https://colab.research.google.com/notebooks/data_table.ipynb>data table notebook</a>'\n",
              "            + ' to learn more about interactive tables.';\n",
              "          element.innerHTML = '';\n",
              "          dataTable['output_type'] = 'display_data';\n",
              "          await google.colab.output.renderOutput(dataTable, element);\n",
              "          const docLink = document.createElement('div');\n",
              "          docLink.innerHTML = docLinkHtml;\n",
              "          element.appendChild(docLink);\n",
              "        }\n",
              "      </script>\n",
              "    </div>\n",
              "  </div>\n",
              "  "
            ]
          },
          "metadata": {},
          "execution_count": 11
        }
      ]
    },
    {
      "cell_type": "code",
      "source": [
        "# Remove null values according to the rules defined in the function\n",
        "df_train['Age'] = df_train[['Age', 'Pclass']].apply(age_approx, axis=1)"
      ],
      "metadata": {
        "id": "XXi7KNTGem0M"
      },
      "execution_count": 12,
      "outputs": []
    },
    {
      "cell_type": "code",
      "source": [
        "# Check if there are still null values on the Age column\n",
        "df_train.isnull().sum()\n",
        "\n",
        "# There aren't but there are still null values in the Embarked column"
      ],
      "metadata": {
        "id": "zuNoxka_emsK",
        "colab": {
          "base_uri": "https://localhost:8080/"
        },
        "outputId": "c54b6d5e-8509-4d62-9f69-ba678f7c6bf3"
      },
      "execution_count": 13,
      "outputs": [
        {
          "output_type": "execute_result",
          "data": {
            "text/plain": [
              "Survived    0\n",
              "Pclass      0\n",
              "Sex         0\n",
              "Age         0\n",
              "SibSp       0\n",
              "Parch       0\n",
              "Fare        0\n",
              "Embarked    2\n",
              "dtype: int64"
            ]
          },
          "metadata": {},
          "execution_count": 13
        }
      ]
    },
    {
      "cell_type": "code",
      "source": [
        "# Drop null values from the Embarked column\n",
        "df_train.dropna(inplace=True)\n",
        "\n",
        "# Double-check if there are still null values in the dataset\n",
        "df_train.isnull().sum()"
      ],
      "metadata": {
        "id": "5erW0GzPemij",
        "colab": {
          "base_uri": "https://localhost:8080/"
        },
        "outputId": "fc0b821e-980a-41b7-f017-641a037b2088"
      },
      "execution_count": 14,
      "outputs": [
        {
          "output_type": "execute_result",
          "data": {
            "text/plain": [
              "Survived    0\n",
              "Pclass      0\n",
              "Sex         0\n",
              "Age         0\n",
              "SibSp       0\n",
              "Parch       0\n",
              "Fare        0\n",
              "Embarked    0\n",
              "dtype: int64"
            ]
          },
          "metadata": {},
          "execution_count": 14
        }
      ]
    },
    {
      "cell_type": "code",
      "source": [
        "# Check the data types of the training set columns\n",
        "df_train.dtypes"
      ],
      "metadata": {
        "id": "rWMifIrWgfj4",
        "colab": {
          "base_uri": "https://localhost:8080/"
        },
        "outputId": "74628948-8914-4939-e21e-b651d99100bb"
      },
      "execution_count": 16,
      "outputs": [
        {
          "output_type": "execute_result",
          "data": {
            "text/plain": [
              "Survived      int64\n",
              "Pclass        int64\n",
              "Sex          object\n",
              "Age         float64\n",
              "SibSp         int64\n",
              "Parch         int64\n",
              "Fare        float64\n",
              "Embarked     object\n",
              "dtype: object"
            ]
          },
          "metadata": {},
          "execution_count": 16
        }
      ]
    },
    {
      "cell_type": "code",
      "source": [
        "# Convert the categorical variables Sex and Embarked into numeric ones\n",
        "df_train_dummied = pd.get_dummies(df_train, columns=['Sex'])\n",
        "df_train_dummied = pd.get_dummies(df_train_dummied, columns=['Embarked'])\n",
        "df_train_dummied.head()"
      ],
      "metadata": {
        "id": "8j1BHxkMgfho",
        "colab": {
          "base_uri": "https://localhost:8080/",
          "height": 206
        },
        "outputId": "88b0006e-4d4a-46d9-9d59-eb00818d6359"
      },
      "execution_count": 17,
      "outputs": [
        {
          "output_type": "execute_result",
          "data": {
            "text/plain": [
              "   Survived  Pclass   Age  SibSp  Parch     Fare  Sex_female  Sex_male  \\\n",
              "0         0       3  22.0      1      0   7.2500           0         1   \n",
              "1         1       1  38.0      1      0  71.2833           1         0   \n",
              "2         1       3  26.0      0      0   7.9250           1         0   \n",
              "3         1       1  35.0      1      0  53.1000           1         0   \n",
              "4         0       3  35.0      0      0   8.0500           0         1   \n",
              "\n",
              "   Embarked_C  Embarked_Q  Embarked_S  \n",
              "0           0           0           1  \n",
              "1           1           0           0  \n",
              "2           0           0           1  \n",
              "3           0           0           1  \n",
              "4           0           0           1  "
            ],
            "text/html": [
              "\n",
              "  <div id=\"df-f4abb5eb-ad9f-4697-988c-eff031800e8c\">\n",
              "    <div class=\"colab-df-container\">\n",
              "      <div>\n",
              "<style scoped>\n",
              "    .dataframe tbody tr th:only-of-type {\n",
              "        vertical-align: middle;\n",
              "    }\n",
              "\n",
              "    .dataframe tbody tr th {\n",
              "        vertical-align: top;\n",
              "    }\n",
              "\n",
              "    .dataframe thead th {\n",
              "        text-align: right;\n",
              "    }\n",
              "</style>\n",
              "<table border=\"1\" class=\"dataframe\">\n",
              "  <thead>\n",
              "    <tr style=\"text-align: right;\">\n",
              "      <th></th>\n",
              "      <th>Survived</th>\n",
              "      <th>Pclass</th>\n",
              "      <th>Age</th>\n",
              "      <th>SibSp</th>\n",
              "      <th>Parch</th>\n",
              "      <th>Fare</th>\n",
              "      <th>Sex_female</th>\n",
              "      <th>Sex_male</th>\n",
              "      <th>Embarked_C</th>\n",
              "      <th>Embarked_Q</th>\n",
              "      <th>Embarked_S</th>\n",
              "    </tr>\n",
              "  </thead>\n",
              "  <tbody>\n",
              "    <tr>\n",
              "      <th>0</th>\n",
              "      <td>0</td>\n",
              "      <td>3</td>\n",
              "      <td>22.0</td>\n",
              "      <td>1</td>\n",
              "      <td>0</td>\n",
              "      <td>7.2500</td>\n",
              "      <td>0</td>\n",
              "      <td>1</td>\n",
              "      <td>0</td>\n",
              "      <td>0</td>\n",
              "      <td>1</td>\n",
              "    </tr>\n",
              "    <tr>\n",
              "      <th>1</th>\n",
              "      <td>1</td>\n",
              "      <td>1</td>\n",
              "      <td>38.0</td>\n",
              "      <td>1</td>\n",
              "      <td>0</td>\n",
              "      <td>71.2833</td>\n",
              "      <td>1</td>\n",
              "      <td>0</td>\n",
              "      <td>1</td>\n",
              "      <td>0</td>\n",
              "      <td>0</td>\n",
              "    </tr>\n",
              "    <tr>\n",
              "      <th>2</th>\n",
              "      <td>1</td>\n",
              "      <td>3</td>\n",
              "      <td>26.0</td>\n",
              "      <td>0</td>\n",
              "      <td>0</td>\n",
              "      <td>7.9250</td>\n",
              "      <td>1</td>\n",
              "      <td>0</td>\n",
              "      <td>0</td>\n",
              "      <td>0</td>\n",
              "      <td>1</td>\n",
              "    </tr>\n",
              "    <tr>\n",
              "      <th>3</th>\n",
              "      <td>1</td>\n",
              "      <td>1</td>\n",
              "      <td>35.0</td>\n",
              "      <td>1</td>\n",
              "      <td>0</td>\n",
              "      <td>53.1000</td>\n",
              "      <td>1</td>\n",
              "      <td>0</td>\n",
              "      <td>0</td>\n",
              "      <td>0</td>\n",
              "      <td>1</td>\n",
              "    </tr>\n",
              "    <tr>\n",
              "      <th>4</th>\n",
              "      <td>0</td>\n",
              "      <td>3</td>\n",
              "      <td>35.0</td>\n",
              "      <td>0</td>\n",
              "      <td>0</td>\n",
              "      <td>8.0500</td>\n",
              "      <td>0</td>\n",
              "      <td>1</td>\n",
              "      <td>0</td>\n",
              "      <td>0</td>\n",
              "      <td>1</td>\n",
              "    </tr>\n",
              "  </tbody>\n",
              "</table>\n",
              "</div>\n",
              "      <button class=\"colab-df-convert\" onclick=\"convertToInteractive('df-f4abb5eb-ad9f-4697-988c-eff031800e8c')\"\n",
              "              title=\"Convert this dataframe to an interactive table.\"\n",
              "              style=\"display:none;\">\n",
              "        \n",
              "  <svg xmlns=\"http://www.w3.org/2000/svg\" height=\"24px\"viewBox=\"0 0 24 24\"\n",
              "       width=\"24px\">\n",
              "    <path d=\"M0 0h24v24H0V0z\" fill=\"none\"/>\n",
              "    <path d=\"M18.56 5.44l.94 2.06.94-2.06 2.06-.94-2.06-.94-.94-2.06-.94 2.06-2.06.94zm-11 1L8.5 8.5l.94-2.06 2.06-.94-2.06-.94L8.5 2.5l-.94 2.06-2.06.94zm10 10l.94 2.06.94-2.06 2.06-.94-2.06-.94-.94-2.06-.94 2.06-2.06.94z\"/><path d=\"M17.41 7.96l-1.37-1.37c-.4-.4-.92-.59-1.43-.59-.52 0-1.04.2-1.43.59L10.3 9.45l-7.72 7.72c-.78.78-.78 2.05 0 2.83L4 21.41c.39.39.9.59 1.41.59.51 0 1.02-.2 1.41-.59l7.78-7.78 2.81-2.81c.8-.78.8-2.07 0-2.86zM5.41 20L4 18.59l7.72-7.72 1.47 1.35L5.41 20z\"/>\n",
              "  </svg>\n",
              "      </button>\n",
              "      \n",
              "  <style>\n",
              "    .colab-df-container {\n",
              "      display:flex;\n",
              "      flex-wrap:wrap;\n",
              "      gap: 12px;\n",
              "    }\n",
              "\n",
              "    .colab-df-convert {\n",
              "      background-color: #E8F0FE;\n",
              "      border: none;\n",
              "      border-radius: 50%;\n",
              "      cursor: pointer;\n",
              "      display: none;\n",
              "      fill: #1967D2;\n",
              "      height: 32px;\n",
              "      padding: 0 0 0 0;\n",
              "      width: 32px;\n",
              "    }\n",
              "\n",
              "    .colab-df-convert:hover {\n",
              "      background-color: #E2EBFA;\n",
              "      box-shadow: 0px 1px 2px rgba(60, 64, 67, 0.3), 0px 1px 3px 1px rgba(60, 64, 67, 0.15);\n",
              "      fill: #174EA6;\n",
              "    }\n",
              "\n",
              "    [theme=dark] .colab-df-convert {\n",
              "      background-color: #3B4455;\n",
              "      fill: #D2E3FC;\n",
              "    }\n",
              "\n",
              "    [theme=dark] .colab-df-convert:hover {\n",
              "      background-color: #434B5C;\n",
              "      box-shadow: 0px 1px 3px 1px rgba(0, 0, 0, 0.15);\n",
              "      filter: drop-shadow(0px 1px 2px rgba(0, 0, 0, 0.3));\n",
              "      fill: #FFFFFF;\n",
              "    }\n",
              "  </style>\n",
              "\n",
              "      <script>\n",
              "        const buttonEl =\n",
              "          document.querySelector('#df-f4abb5eb-ad9f-4697-988c-eff031800e8c button.colab-df-convert');\n",
              "        buttonEl.style.display =\n",
              "          google.colab.kernel.accessAllowed ? 'block' : 'none';\n",
              "\n",
              "        async function convertToInteractive(key) {\n",
              "          const element = document.querySelector('#df-f4abb5eb-ad9f-4697-988c-eff031800e8c');\n",
              "          const dataTable =\n",
              "            await google.colab.kernel.invokeFunction('convertToInteractive',\n",
              "                                                     [key], {});\n",
              "          if (!dataTable) return;\n",
              "\n",
              "          const docLinkHtml = 'Like what you see? Visit the ' +\n",
              "            '<a target=\"_blank\" href=https://colab.research.google.com/notebooks/data_table.ipynb>data table notebook</a>'\n",
              "            + ' to learn more about interactive tables.';\n",
              "          element.innerHTML = '';\n",
              "          dataTable['output_type'] = 'display_data';\n",
              "          await google.colab.output.renderOutput(dataTable, element);\n",
              "          const docLink = document.createElement('div');\n",
              "          docLink.innerHTML = docLinkHtml;\n",
              "          element.appendChild(docLink);\n",
              "        }\n",
              "      </script>\n",
              "    </div>\n",
              "  </div>\n",
              "  "
            ]
          },
          "metadata": {},
          "execution_count": 17
        }
      ]
    },
    {
      "cell_type": "code",
      "source": [
        "# Find possible correlations between the variables\n",
        "plt.figure(figsize=(6,4))\n",
        "sns.heatmap(df_train_dummied.corr())"
      ],
      "metadata": {
        "id": "hcdo1v9NgyjJ",
        "colab": {
          "base_uri": "https://localhost:8080/",
          "height": 387
        },
        "outputId": "390cca9f-b45d-4b78-e72e-4c0e59432853"
      },
      "execution_count": 18,
      "outputs": [
        {
          "output_type": "execute_result",
          "data": {
            "text/plain": [
              "<matplotlib.axes._subplots.AxesSubplot at 0x7f15d2566f40>"
            ]
          },
          "metadata": {},
          "execution_count": 18
        },
        {
          "output_type": "display_data",
          "data": {
            "text/plain": [
              "<Figure size 432x288 with 2 Axes>"
            ],
            "image/png": "[encoded data removed]"
          },
          "metadata": {}
        }
      ]
    },
    {
      "cell_type": "markdown",
      "source": [
        "Modelling"
      ],
      "metadata": {
        "id": "mrwoxXSuaKue"
      }
    },
    {
      "cell_type": "code",
      "source": [
        "# Assign the independent and dependent variables\n",
        "used_features = ['Pclass', 'Age', 'SibSp', 'Parch', 'Sex_female', 'Sex_male', 'Embarked_C', 'Embarked_Q', 'Embarked_S']\n",
        "X = df_train_dummied[used_features].values\n",
        "y = df_train_dummied['Survived']"
      ],
      "metadata": {
        "id": "1I8h0LUMgyyj"
      },
      "execution_count": 19,
      "outputs": []
    },
    {
      "cell_type": "code",
      "source": [
        "# Split the data into training and test sets\n",
        "X_train, X_test, y_train, y_test = train_test_split(X, y, test_size=0.3, random_state=1)\n",
        "print(\"Training set features' shape:\", X_train.shape)\n",
        "print(\"Test set features' shape:\", X_test.shape)\n",
        "print(\"Training set target shape:\", y_train.shape)\n",
        "print(\"Test set target shape:\", y_test.shape)"
      ],
      "metadata": {
        "id": "7SY_y2LDgy3C",
        "colab": {
          "base_uri": "https://localhost:8080/"
        },
        "outputId": "170909a2-8e79-4771-aab1-8a34c87ae2bb"
      },
      "execution_count": 20,
      "outputs": [
        {
          "output_type": "stream",
          "name": "stdout",
          "text": [
            "Training set features' shape: (622, 9)\n",
            "Test set features' shape: (267, 9)\n",
            "Training set target shape: (622,)\n",
            "Test set target shape: (267,)\n"
          ]
        }
      ]
    },
    {
      "cell_type": "code",
      "source": [
        "# Instantiate and train the model\n",
        "LogReg = LogisticRegression()\n",
        "LogReg.fit(X_train,y_train)\n",
        "\n",
        "# Predict the model outcomes\n",
        "y_pred = LogReg.predict(X_test)"
      ],
      "metadata": {
        "id": "kHO_KbJjgy9b",
        "colab": {
          "base_uri": "https://localhost:8080/"
        },
        "outputId": "9e3e87b1-9654-40d2-f922-dd842fa5e08a"
      },
      "execution_count": 23,
      "outputs": [
        {
          "output_type": "stream",
          "name": "stderr",
          "text": [
            "/usr/local/lib/python3.8/dist-packages/sklearn/linear_model/_logistic.py:814: ConvergenceWarning: lbfgs failed to converge (status=1):\n",
            "STOP: TOTAL NO. of ITERATIONS REACHED LIMIT.\n",
            "\n",
            "Increase the number of iterations (max_iter) or scale the data as shown in:\n",
            "    https://scikit-learn.org/stable/modules/preprocessing.html\n",
            "Please also refer to the documentation for alternative solver options:\n",
            "    https://scikit-learn.org/stable/modules/linear_model.html#logistic-regression\n",
            "  n_iter_i = _check_optimize_result(\n"
          ]
        }
      ]
    },
    {
      "cell_type": "code",
      "source": [
        "# Get the confusion matrix of the model\n",
        "print(\"Confusion matrix:\")\n",
        "print(metrics.confusion_matrix(y_test,y_pred))"
      ],
      "metadata": {
        "id": "8axkJjMJjEyU",
        "colab": {
          "base_uri": "https://localhost:8080/"
        },
        "outputId": "507bc782-5c99-4064-aa08-5ec977ce3f4a"
      },
      "execution_count": 24,
      "outputs": [
        {
          "output_type": "stream",
          "name": "stdout",
          "text": [
            "Confusion matrix:\n",
            "[[143  23]\n",
            " [ 22  79]]\n"
          ]
        }
      ]
    },
    {
      "cell_type": "code",
      "source": [
        "# Get the accuracy score of the model\n",
        "print(\"Accuracy:\", metrics.accuracy_score(y_test,y_pred))"
      ],
      "metadata": {
        "id": "9dW2KP_rjjvX",
        "colab": {
          "base_uri": "https://localhost:8080/"
        },
        "outputId": "9a3e2977-8158-494e-e595-26a3fb3482c8"
      },
      "execution_count": 25,
      "outputs": [
        {
          "output_type": "stream",
          "name": "stdout",
          "text": [
            "Accuracy: 0.8314606741573034\n"
          ]
        }
      ]
    },
    {
      "cell_type": "code",
      "source": [
        "# Get the classification report of the model\n",
        "print(\"Classification report:\")\n",
        "print(\" \")\n",
        "print(classification_report(y_test,y_pred))"
      ],
      "metadata": {
        "id": "PpP4ppcikBhW",
        "colab": {
          "base_uri": "https://localhost:8080/"
        },
        "outputId": "acb686e0-de94-4394-fa62-38bf431a60e4"
      },
      "execution_count": 27,
      "outputs": [
        {
          "output_type": "stream",
          "name": "stdout",
          "text": [
            "Classification report:\n",
            " \n",
            "              precision    recall  f1-score   support\n",
            "\n",
            "           0       0.87      0.86      0.86       166\n",
            "           1       0.77      0.78      0.78       101\n",
            "\n",
            "    accuracy                           0.83       267\n",
            "   macro avg       0.82      0.82      0.82       267\n",
            "weighted avg       0.83      0.83      0.83       267\n",
            "\n"
          ]
        }
      ]
    },
    {
      "cell_type": "code",
      "source": [
        "# Get the coefficients and intercept of the function\n",
        "print(\"Coefficients:\", LogReg.coef_)\n",
        "print(\"Intercept:\", LogReg.intercept_)"
      ],
      "metadata": {
        "id": "35q6Eg1BkBZX",
        "colab": {
          "base_uri": "https://localhost:8080/"
        },
        "outputId": "f64ecd08-8cab-4169-94dc-c0e937389838"
      },
      "execution_count": 28,
      "outputs": [
        {
          "output_type": "stream",
          "name": "stdout",
          "text": [
            "Coefficients: [[-1.04158875 -0.03983791 -0.24164894 -0.04036284  1.19459667 -1.19437717\n",
            "   0.34571376 -0.03446633 -0.31102793]]\n",
            "Intercept: [3.65307861]\n"
          ]
        }
      ]
    },
    {
      "cell_type": "code",
      "source": [
        "# Further check the algorithm's predicted probabilities per person - survived vs not survived\n",
        "LogReg.predict_proba(X_test)"
      ],
      "metadata": {
        "id": "MNvol5AMkbgj",
        "colab": {
          "base_uri": "https://localhost:8080/"
        },
        "outputId": "b83df602-8d9e-4d56-ab83-90e21922f8d7"
      },
      "execution_count": 29,
      "outputs": [
        {
          "output_type": "execute_result",
          "data": {
            "text/plain": [
              "array([[0.26516281, 0.73483719],\n",
              "       [0.39622692, 0.60377308],\n",
              "       [0.94731558, 0.05268442],\n",
              "       [0.2590262 , 0.7409738 ],\n",
              "       [0.94394814, 0.05605186],\n",
              "       [0.13481001, 0.86518999],\n",
              "       [0.33296644, 0.66703356],\n",
              "       [0.51840603, 0.48159397],\n",
              "       [0.78238293, 0.21761707],\n",
              "       [0.407069  , 0.592931  ],\n",
              "       [0.7398449 , 0.2601551 ],\n",
              "       [0.21228987, 0.78771013],\n",
              "       [0.74853299, 0.25146701],\n",
              "       [0.14548545, 0.85451455],\n",
              "       [0.86454066, 0.13545934],\n",
              "       [0.36924736, 0.63075264],\n",
              "       [0.89406721, 0.10593279],\n",
              "       [0.2973491 , 0.7026509 ],\n",
              "       [0.17609946, 0.82390054],\n",
              "       [0.3999398 , 0.6000602 ],\n",
              "       [0.90481481, 0.09518519],\n",
              "       [0.5526016 , 0.4473984 ],\n",
              "       [0.86416764, 0.13583236],\n",
              "       [0.93727874, 0.06272126],\n",
              "       [0.51742233, 0.48257767],\n",
              "       [0.51552543, 0.48447457],\n",
              "       [0.03932822, 0.96067178],\n",
              "       [0.8691387 , 0.1308613 ],\n",
              "       [0.89796834, 0.10203166],\n",
              "       [0.32468303, 0.67531697],\n",
              "       [0.3879895 , 0.6120105 ],\n",
              "       [0.40890365, 0.59109635],\n",
              "       [0.15491646, 0.84508354],\n",
              "       [0.41447576, 0.58552424],\n",
              "       [0.59095581, 0.40904419],\n",
              "       [0.16563648, 0.83436352],\n",
              "       [0.65687634, 0.34312366],\n",
              "       [0.87360348, 0.12639652],\n",
              "       [0.24311581, 0.75688419],\n",
              "       [0.57670706, 0.42329294],\n",
              "       [0.43646242, 0.56353758],\n",
              "       [0.91120198, 0.08879802],\n",
              "       [0.3172684 , 0.6827316 ],\n",
              "       [0.87360348, 0.12639652],\n",
              "       [0.79638728, 0.20361272],\n",
              "       [0.23529382, 0.76470618],\n",
              "       [0.17039382, 0.82960618],\n",
              "       [0.81595556, 0.18404444],\n",
              "       [0.06076006, 0.93923994],\n",
              "       [0.92350377, 0.07649623],\n",
              "       [0.87360348, 0.12639652],\n",
              "       [0.42829188, 0.57170812],\n",
              "       [0.88351987, 0.11648013],\n",
              "       [0.09112949, 0.90887051],\n",
              "       [0.74853299, 0.25146701],\n",
              "       [0.07055063, 0.92944937],\n",
              "       [0.77732671, 0.22267329],\n",
              "       [0.95139646, 0.04860354],\n",
              "       [0.70093957, 0.29906043],\n",
              "       [0.9369388 , 0.0630612 ],\n",
              "       [0.81508251, 0.18491749],\n",
              "       [0.85980712, 0.14019288],\n",
              "       [0.59095581, 0.40904419],\n",
              "       [0.87360348, 0.12639652],\n",
              "       [0.42829188, 0.57170812],\n",
              "       [0.23586043, 0.76413957],\n",
              "       [0.87360348, 0.12639652],\n",
              "       [0.91145907, 0.08854093],\n",
              "       [0.84449271, 0.15550729],\n",
              "       [0.05431408, 0.94568592],\n",
              "       [0.86373235, 0.13626765],\n",
              "       [0.05639702, 0.94360298],\n",
              "       [0.65197159, 0.34802841],\n",
              "       [0.85980712, 0.14019288],\n",
              "       [0.31426008, 0.68573992],\n",
              "       [0.13481001, 0.86518999],\n",
              "       [0.83978659, 0.16021341],\n",
              "       [0.92368876, 0.07631124],\n",
              "       [0.82613409, 0.17386591],\n",
              "       [0.83323031, 0.16676969],\n",
              "       [0.83978659, 0.16021341],\n",
              "       [0.86454066, 0.13545934],\n",
              "       [0.03932822, 0.96067178],\n",
              "       [0.06002001, 0.93997999],\n",
              "       [0.76323164, 0.23676836],\n",
              "       [0.61950124, 0.38049876],\n",
              "       [0.43806106, 0.56193894],\n",
              "       [0.42842042, 0.57157958],\n",
              "       [0.87360348, 0.12639652],\n",
              "       [0.36924736, 0.63075264],\n",
              "       [0.8977279 , 0.1022721 ],\n",
              "       [0.32468303, 0.67531697],\n",
              "       [0.93418991, 0.06581009],\n",
              "       [0.78184676, 0.21815324],\n",
              "       [0.24740271, 0.75259729],\n",
              "       [0.83904719, 0.16095281],\n",
              "       [0.22922516, 0.77077484],\n",
              "       [0.27414379, 0.72585621],\n",
              "       [0.24740271, 0.75259729],\n",
              "       [0.2144731 , 0.7855269 ],\n",
              "       [0.84992502, 0.15007498],\n",
              "       [0.34199063, 0.65800937],\n",
              "       [0.60684317, 0.39315683],\n",
              "       [0.85493593, 0.14506407],\n",
              "       [0.85493593, 0.14506407],\n",
              "       [0.9057589 , 0.0942411 ],\n",
              "       [0.13690928, 0.86309072],\n",
              "       [0.84992502, 0.15007498],\n",
              "       [0.76795239, 0.23204761],\n",
              "       [0.81595556, 0.18404444],\n",
              "       [0.63870065, 0.36129935],\n",
              "       [0.74853299, 0.25146701],\n",
              "       [0.78184676, 0.21815324],\n",
              "       [0.18678245, 0.81321755],\n",
              "       [0.35940638, 0.64059362],\n",
              "       [0.08638705, 0.91361295],\n",
              "       [0.9155183 , 0.0844817 ],\n",
              "       [0.407069  , 0.592931  ],\n",
              "       [0.06429626, 0.93570374],\n",
              "       [0.79081267, 0.20918733],\n",
              "       [0.87793733, 0.12206267],\n",
              "       [0.20656238, 0.79343762],\n",
              "       [0.32468303, 0.67531697],\n",
              "       [0.50234419, 0.49765581],\n",
              "       [0.20740074, 0.79259926],\n",
              "       [0.89210962, 0.10789038],\n",
              "       [0.44296786, 0.55703214],\n",
              "       [0.90936458, 0.09063542],\n",
              "       [0.88214262, 0.11785738],\n",
              "       [0.57677261, 0.42322739],\n",
              "       [0.44667303, 0.55332697],\n",
              "       [0.60684317, 0.39315683],\n",
              "       [0.8783863 , 0.1216137 ],\n",
              "       [0.59095581, 0.40904419],\n",
              "       [0.36924736, 0.63075264],\n",
              "       [0.07068823, 0.92931177],\n",
              "       [0.85980712, 0.14019288],\n",
              "       [0.92627105, 0.07372895],\n",
              "       [0.87360348, 0.12639652],\n",
              "       [0.89017739, 0.10982261],\n",
              "       [0.85910617, 0.14089383],\n",
              "       [0.31482528, 0.68517472],\n",
              "       [0.92350377, 0.07649623],\n",
              "       [0.38861216, 0.61138784],\n",
              "       [0.59095581, 0.40904419],\n",
              "       [0.69320445, 0.30679555],\n",
              "       [0.18018662, 0.81981338],\n",
              "       [0.10721192, 0.89278808],\n",
              "       [0.07876308, 0.92123692],\n",
              "       [0.92930482, 0.07069518],\n",
              "       [0.85657942, 0.14342058],\n",
              "       [0.9364413 , 0.0635587 ],\n",
              "       [0.14271278, 0.85728722],\n",
              "       [0.84992502, 0.15007498],\n",
              "       [0.38036171, 0.61963829],\n",
              "       [0.36924736, 0.63075264],\n",
              "       [0.78985107, 0.21014893],\n",
              "       [0.37132593, 0.62867407],\n",
              "       [0.89017739, 0.10982261],\n",
              "       [0.87360348, 0.12639652],\n",
              "       [0.50234419, 0.49765581],\n",
              "       [0.77035507, 0.22964493],\n",
              "       [0.57677261, 0.42322739],\n",
              "       [0.86969787, 0.13030213],\n",
              "       [0.87296132, 0.12703868],\n",
              "       [0.83403513, 0.16596487],\n",
              "       [0.13721934, 0.86278066],\n",
              "       [0.05966597, 0.94033403],\n",
              "       [0.77823289, 0.22176711],\n",
              "       [0.23595505, 0.76404495],\n",
              "       [0.84992502, 0.15007498],\n",
              "       [0.89878218, 0.10121782],\n",
              "       [0.83978659, 0.16021341],\n",
              "       [0.87360348, 0.12639652],\n",
              "       [0.68104278, 0.31895722],\n",
              "       [0.29185488, 0.70814512],\n",
              "       [0.86454066, 0.13545934],\n",
              "       [0.70922312, 0.29077688],\n",
              "       [0.87360348, 0.12639652],\n",
              "       [0.84992502, 0.15007498],\n",
              "       [0.83978659, 0.16021341],\n",
              "       [0.87360348, 0.12639652],\n",
              "       [0.65214885, 0.34785115],\n",
              "       [0.93222987, 0.06777013],\n",
              "       [0.32468303, 0.67531697],\n",
              "       [0.82608716, 0.17391284],\n",
              "       [0.37973249, 0.62026751],\n",
              "       [0.58129217, 0.41870783],\n",
              "       [0.22764162, 0.77235838],\n",
              "       [0.90481481, 0.09518519],\n",
              "       [0.75536982, 0.24463018],\n",
              "       [0.71672423, 0.28327577],\n",
              "       [0.86454066, 0.13545934],\n",
              "       [0.76370504, 0.23629496],\n",
              "       [0.93662832, 0.06337168],\n",
              "       [0.74743911, 0.25256089],\n",
              "       [0.89854345, 0.10145655],\n",
              "       [0.28897831, 0.71102169],\n",
              "       [0.59095581, 0.40904419],\n",
              "       [0.06553361, 0.93446639],\n",
              "       [0.70130496, 0.29869504],\n",
              "       [0.18281961, 0.81718039],\n",
              "       [0.77842009, 0.22157991],\n",
              "       [0.54860461, 0.45139539],\n",
              "       [0.04770315, 0.95229685],\n",
              "       [0.89017739, 0.10982261],\n",
              "       [0.87578662, 0.12421338],\n",
              "       [0.32221281, 0.67778719],\n",
              "       [0.81087896, 0.18912104],\n",
              "       [0.08788322, 0.91211678],\n",
              "       [0.83978659, 0.16021341],\n",
              "       [0.74096027, 0.25903973],\n",
              "       [0.78184676, 0.21815324],\n",
              "       [0.76795239, 0.23204761],\n",
              "       [0.30915023, 0.69084977],\n",
              "       [0.19460817, 0.80539183],\n",
              "       [0.75595725, 0.24404275],\n",
              "       [0.19339961, 0.80660039],\n",
              "       [0.91462179, 0.08537821],\n",
              "       [0.69184447, 0.30815553],\n",
              "       [0.86969787, 0.13030213],\n",
              "       [0.49718469, 0.50281531],\n",
              "       [0.67104764, 0.32895236],\n",
              "       [0.22126109, 0.77873891],\n",
              "       [0.24301923, 0.75698077],\n",
              "       [0.86454066, 0.13545934],\n",
              "       [0.57375584, 0.42624416],\n",
              "       [0.83978659, 0.16021341],\n",
              "       [0.78856528, 0.21143472],\n",
              "       [0.74863179, 0.25136821],\n",
              "       [0.37973249, 0.62026751],\n",
              "       [0.29507457, 0.70492543],\n",
              "       [0.46670023, 0.53329977],\n",
              "       [0.83978659, 0.16021341],\n",
              "       [0.8977279 , 0.1022721 ],\n",
              "       [0.89043341, 0.10956659],\n",
              "       [0.87360348, 0.12639652],\n",
              "       [0.79825712, 0.20174288],\n",
              "       [0.35418949, 0.64581051],\n",
              "       [0.87793733, 0.12206267],\n",
              "       [0.2973491 , 0.7026509 ],\n",
              "       [0.83978659, 0.16021341],\n",
              "       [0.84992502, 0.15007498],\n",
              "       [0.67162605, 0.32837395],\n",
              "       [0.51631123, 0.48368877],\n",
              "       [0.09838315, 0.90161685],\n",
              "       [0.13366809, 0.86633191],\n",
              "       [0.79723613, 0.20276387],\n",
              "       [0.6912853 , 0.3087147 ],\n",
              "       [0.87389266, 0.12610734],\n",
              "       [0.24156898, 0.75843102],\n",
              "       [0.32468303, 0.67531697],\n",
              "       [0.39749029, 0.60250971],\n",
              "       [0.94105095, 0.05894905],\n",
              "       [0.10902573, 0.89097427],\n",
              "       [0.22628556, 0.77371444],\n",
              "       [0.88214262, 0.11785738],\n",
              "       [0.90481481, 0.09518519],\n",
              "       [0.03936791, 0.96063209],\n",
              "       [0.78184676, 0.21815324],\n",
              "       [0.20135513, 0.79864487],\n",
              "       [0.87385765, 0.12614235],\n",
              "       [0.65699465, 0.34300535],\n",
              "       [0.87360348, 0.12639652],\n",
              "       [0.29507457, 0.70492543],\n",
              "       [0.83978659, 0.16021341],\n",
              "       [0.91175491, 0.08824509]])"
            ]
          },
          "metadata": {},
          "execution_count": 29
        }
      ]
    }
  ]
}