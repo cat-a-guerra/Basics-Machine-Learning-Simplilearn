{
  "nbformat": 4,
  "nbformat_minor": 0,
  "metadata": {
    "colab": {
      "provenance": []
    },
    "kernelspec": {
      "name": "python3",
      "display_name": "Python 3"
    },
    "language_info": {
      "name": "python"
    }
  },
  "cells": [
    {
      "cell_type": "code",
      "execution_count": 1,
      "metadata": {
        "id": "d2ILueREdMhy"
      },
      "outputs": [],
      "source": [
        "# Import libraries\n",
        "import pandas as pd\n",
        "import numpy as np\n",
        "import matplotlib.pyplot as plt\n",
        "import seaborn as sns\n",
        "sns.set()\n",
        "\n",
        "%matplotlib inline\n",
        "import warnings\n",
        "warnings.filterwarnings('ignore')\n",
        "plt.rcParams['figure.figsize'] = (12,6)         # handles matplotlib values"
      ]
    },
    {
      "cell_type": "code",
      "source": [
        "# Read data\n",
        "df = pd.read_csv('driver-data.csv')\n",
        "df.head()"
      ],
      "metadata": {
        "id": "OXRuwCskeRXE",
        "colab": {
          "base_uri": "https://localhost:8080/",
          "height": 206
        },
        "outputId": "470865d7-03bf-499d-ce3e-c7bbba407d08"
      },
      "execution_count": 21,
      "outputs": [
        {
          "output_type": "execute_result",
          "data": {
            "text/plain": [
              "           id  mean_dist_day  mean_over_speed_perc\n",
              "0  3423311935          71.24                    28\n",
              "1  3423313212          52.53                    25\n",
              "2  3423313724          64.54                    27\n",
              "3  3423311373          55.69                    22\n",
              "4  3423310999          54.58                    25"
            ],
            "text/html": [
              "\n",
              "  <div id=\"df-10880e7d-99bd-4e02-a0f5-39d5cef445ed\">\n",
              "    <div class=\"colab-df-container\">\n",
              "      <div>\n",
              "<style scoped>\n",
              "    .dataframe tbody tr th:only-of-type {\n",
              "        vertical-align: middle;\n",
              "    }\n",
              "\n",
              "    .dataframe tbody tr th {\n",
              "        vertical-align: top;\n",
              "    }\n",
              "\n",
              "    .dataframe thead th {\n",
              "        text-align: right;\n",
              "    }\n",
              "</style>\n",
              "<table border=\"1\" class=\"dataframe\">\n",
              "  <thead>\n",
              "    <tr style=\"text-align: right;\">\n",
              "      <th></th>\n",
              "      <th>id</th>\n",
              "      <th>mean_dist_day</th>\n",
              "      <th>mean_over_speed_perc</th>\n",
              "    </tr>\n",
              "  </thead>\n",
              "  <tbody>\n",
              "    <tr>\n",
              "      <th>0</th>\n",
              "      <td>3423311935</td>\n",
              "      <td>71.24</td>\n",
              "      <td>28</td>\n",
              "    </tr>\n",
              "    <tr>\n",
              "      <th>1</th>\n",
              "      <td>3423313212</td>\n",
              "      <td>52.53</td>\n",
              "      <td>25</td>\n",
              "    </tr>\n",
              "    <tr>\n",
              "      <th>2</th>\n",
              "      <td>3423313724</td>\n",
              "      <td>64.54</td>\n",
              "      <td>27</td>\n",
              "    </tr>\n",
              "    <tr>\n",
              "      <th>3</th>\n",
              "      <td>3423311373</td>\n",
              "      <td>55.69</td>\n",
              "      <td>22</td>\n",
              "    </tr>\n",
              "    <tr>\n",
              "      <th>4</th>\n",
              "      <td>3423310999</td>\n",
              "      <td>54.58</td>\n",
              "      <td>25</td>\n",
              "    </tr>\n",
              "  </tbody>\n",
              "</table>\n",
              "</div>\n",
              "      <button class=\"colab-df-convert\" onclick=\"convertToInteractive('df-10880e7d-99bd-4e02-a0f5-39d5cef445ed')\"\n",
              "              title=\"Convert this dataframe to an interactive table.\"\n",
              "              style=\"display:none;\">\n",
              "        \n",
              "  <svg xmlns=\"http://www.w3.org/2000/svg\" height=\"24px\"viewBox=\"0 0 24 24\"\n",
              "       width=\"24px\">\n",
              "    <path d=\"M0 0h24v24H0V0z\" fill=\"none\"/>\n",
              "    <path d=\"M18.56 5.44l.94 2.06.94-2.06 2.06-.94-2.06-.94-.94-2.06-.94 2.06-2.06.94zm-11 1L8.5 8.5l.94-2.06 2.06-.94-2.06-.94L8.5 2.5l-.94 2.06-2.06.94zm10 10l.94 2.06.94-2.06 2.06-.94-2.06-.94-.94-2.06-.94 2.06-2.06.94z\"/><path d=\"M17.41 7.96l-1.37-1.37c-.4-.4-.92-.59-1.43-.59-.52 0-1.04.2-1.43.59L10.3 9.45l-7.72 7.72c-.78.78-.78 2.05 0 2.83L4 21.41c.39.39.9.59 1.41.59.51 0 1.02-.2 1.41-.59l7.78-7.78 2.81-2.81c.8-.78.8-2.07 0-2.86zM5.41 20L4 18.59l7.72-7.72 1.47 1.35L5.41 20z\"/>\n",
              "  </svg>\n",
              "      </button>\n",
              "      \n",
              "  <style>\n",
              "    .colab-df-container {\n",
              "      display:flex;\n",
              "      flex-wrap:wrap;\n",
              "      gap: 12px;\n",
              "    }\n",
              "\n",
              "    .colab-df-convert {\n",
              "      background-color: #E8F0FE;\n",
              "      border: none;\n",
              "      border-radius: 50%;\n",
              "      cursor: pointer;\n",
              "      display: none;\n",
              "      fill: #1967D2;\n",
              "      height: 32px;\n",
              "      padding: 0 0 0 0;\n",
              "      width: 32px;\n",
              "    }\n",
              "\n",
              "    .colab-df-convert:hover {\n",
              "      background-color: #E2EBFA;\n",
              "      box-shadow: 0px 1px 2px rgba(60, 64, 67, 0.3), 0px 1px 3px 1px rgba(60, 64, 67, 0.15);\n",
              "      fill: #174EA6;\n",
              "    }\n",
              "\n",
              "    [theme=dark] .colab-df-convert {\n",
              "      background-color: #3B4455;\n",
              "      fill: #D2E3FC;\n",
              "    }\n",
              "\n",
              "    [theme=dark] .colab-df-convert:hover {\n",
              "      background-color: #434B5C;\n",
              "      box-shadow: 0px 1px 3px 1px rgba(0, 0, 0, 0.15);\n",
              "      filter: drop-shadow(0px 1px 2px rgba(0, 0, 0, 0.3));\n",
              "      fill: #FFFFFF;\n",
              "    }\n",
              "  </style>\n",
              "\n",
              "      <script>\n",
              "        const buttonEl =\n",
              "          document.querySelector('#df-10880e7d-99bd-4e02-a0f5-39d5cef445ed button.colab-df-convert');\n",
              "        buttonEl.style.display =\n",
              "          google.colab.kernel.accessAllowed ? 'block' : 'none';\n",
              "\n",
              "        async function convertToInteractive(key) {\n",
              "          const element = document.querySelector('#df-10880e7d-99bd-4e02-a0f5-39d5cef445ed');\n",
              "          const dataTable =\n",
              "            await google.colab.kernel.invokeFunction('convertToInteractive',\n",
              "                                                     [key], {});\n",
              "          if (!dataTable) return;\n",
              "\n",
              "          const docLinkHtml = 'Like what you see? Visit the ' +\n",
              "            '<a target=\"_blank\" href=https://colab.research.google.com/notebooks/data_table.ipynb>data table notebook</a>'\n",
              "            + ' to learn more about interactive tables.';\n",
              "          element.innerHTML = '';\n",
              "          dataTable['output_type'] = 'display_data';\n",
              "          await google.colab.output.renderOutput(dataTable, element);\n",
              "          const docLink = document.createElement('div');\n",
              "          docLink.innerHTML = docLinkHtml;\n",
              "          element.appendChild(docLink);\n",
              "        }\n",
              "      </script>\n",
              "    </div>\n",
              "  </div>\n",
              "  "
            ]
          },
          "metadata": {},
          "execution_count": 21
        }
      ]
    },
    {
      "cell_type": "code",
      "source": [
        "# Get information about the dataset\n",
        "df.info()"
      ],
      "metadata": {
        "id": "o-b5hcDOeRVH",
        "colab": {
          "base_uri": "https://localhost:8080/"
        },
        "outputId": "0629df66-d87d-4b3a-cd4d-90e0a685a8ca"
      },
      "execution_count": 22,
      "outputs": [
        {
          "output_type": "stream",
          "name": "stdout",
          "text": [
            "<class 'pandas.core.frame.DataFrame'>\n",
            "RangeIndex: 4000 entries, 0 to 3999\n",
            "Data columns (total 3 columns):\n",
            " #   Column                Non-Null Count  Dtype  \n",
            "---  ------                --------------  -----  \n",
            " 0   id                    4000 non-null   int64  \n",
            " 1   mean_dist_day         4000 non-null   float64\n",
            " 2   mean_over_speed_perc  4000 non-null   int64  \n",
            "dtypes: float64(1), int64(2)\n",
            "memory usage: 93.9 KB\n"
          ]
        }
      ]
    },
    {
      "cell_type": "code",
      "source": [
        "# Summary of the dataset\n",
        "df.describe()"
      ],
      "metadata": {
        "id": "nVkIgB_6eRS8",
        "colab": {
          "base_uri": "https://localhost:8080/",
          "height": 300
        },
        "outputId": "3346857d-ef87-4712-e355-e7fbb5169f1a"
      },
      "execution_count": 23,
      "outputs": [
        {
          "output_type": "execute_result",
          "data": {
            "text/plain": [
              "                 id  mean_dist_day  mean_over_speed_perc\n",
              "count  4.000000e+03    4000.000000           4000.000000\n",
              "mean   3.423312e+09      76.041522             10.721000\n",
              "std    1.154845e+03      53.469563             13.708543\n",
              "min    3.423310e+09      15.520000              0.000000\n",
              "25%    3.423311e+09      45.247500              4.000000\n",
              "50%    3.423312e+09      53.330000              6.000000\n",
              "75%    3.423313e+09      65.632500              9.000000\n",
              "max    3.423314e+09     244.790000            100.000000"
            ],
            "text/html": [
              "\n",
              "  <div id=\"df-58b4e026-727e-43db-aa45-c815dae24710\">\n",
              "    <div class=\"colab-df-container\">\n",
              "      <div>\n",
              "<style scoped>\n",
              "    .dataframe tbody tr th:only-of-type {\n",
              "        vertical-align: middle;\n",
              "    }\n",
              "\n",
              "    .dataframe tbody tr th {\n",
              "        vertical-align: top;\n",
              "    }\n",
              "\n",
              "    .dataframe thead th {\n",
              "        text-align: right;\n",
              "    }\n",
              "</style>\n",
              "<table border=\"1\" class=\"dataframe\">\n",
              "  <thead>\n",
              "    <tr style=\"text-align: right;\">\n",
              "      <th></th>\n",
              "      <th>id</th>\n",
              "      <th>mean_dist_day</th>\n",
              "      <th>mean_over_speed_perc</th>\n",
              "    </tr>\n",
              "  </thead>\n",
              "  <tbody>\n",
              "    <tr>\n",
              "      <th>count</th>\n",
              "      <td>4.000000e+03</td>\n",
              "      <td>4000.000000</td>\n",
              "      <td>4000.000000</td>\n",
              "    </tr>\n",
              "    <tr>\n",
              "      <th>mean</th>\n",
              "      <td>3.423312e+09</td>\n",
              "      <td>76.041522</td>\n",
              "      <td>10.721000</td>\n",
              "    </tr>\n",
              "    <tr>\n",
              "      <th>std</th>\n",
              "      <td>1.154845e+03</td>\n",
              "      <td>53.469563</td>\n",
              "      <td>13.708543</td>\n",
              "    </tr>\n",
              "    <tr>\n",
              "      <th>min</th>\n",
              "      <td>3.423310e+09</td>\n",
              "      <td>15.520000</td>\n",
              "      <td>0.000000</td>\n",
              "    </tr>\n",
              "    <tr>\n",
              "      <th>25%</th>\n",
              "      <td>3.423311e+09</td>\n",
              "      <td>45.247500</td>\n",
              "      <td>4.000000</td>\n",
              "    </tr>\n",
              "    <tr>\n",
              "      <th>50%</th>\n",
              "      <td>3.423312e+09</td>\n",
              "      <td>53.330000</td>\n",
              "      <td>6.000000</td>\n",
              "    </tr>\n",
              "    <tr>\n",
              "      <th>75%</th>\n",
              "      <td>3.423313e+09</td>\n",
              "      <td>65.632500</td>\n",
              "      <td>9.000000</td>\n",
              "    </tr>\n",
              "    <tr>\n",
              "      <th>max</th>\n",
              "      <td>3.423314e+09</td>\n",
              "      <td>244.790000</td>\n",
              "      <td>100.000000</td>\n",
              "    </tr>\n",
              "  </tbody>\n",
              "</table>\n",
              "</div>\n",
              "      <button class=\"colab-df-convert\" onclick=\"convertToInteractive('df-58b4e026-727e-43db-aa45-c815dae24710')\"\n",
              "              title=\"Convert this dataframe to an interactive table.\"\n",
              "              style=\"display:none;\">\n",
              "        \n",
              "  <svg xmlns=\"http://www.w3.org/2000/svg\" height=\"24px\"viewBox=\"0 0 24 24\"\n",
              "       width=\"24px\">\n",
              "    <path d=\"M0 0h24v24H0V0z\" fill=\"none\"/>\n",
              "    <path d=\"M18.56 5.44l.94 2.06.94-2.06 2.06-.94-2.06-.94-.94-2.06-.94 2.06-2.06.94zm-11 1L8.5 8.5l.94-2.06 2.06-.94-2.06-.94L8.5 2.5l-.94 2.06-2.06.94zm10 10l.94 2.06.94-2.06 2.06-.94-2.06-.94-.94-2.06-.94 2.06-2.06.94z\"/><path d=\"M17.41 7.96l-1.37-1.37c-.4-.4-.92-.59-1.43-.59-.52 0-1.04.2-1.43.59L10.3 9.45l-7.72 7.72c-.78.78-.78 2.05 0 2.83L4 21.41c.39.39.9.59 1.41.59.51 0 1.02-.2 1.41-.59l7.78-7.78 2.81-2.81c.8-.78.8-2.07 0-2.86zM5.41 20L4 18.59l7.72-7.72 1.47 1.35L5.41 20z\"/>\n",
              "  </svg>\n",
              "      </button>\n",
              "      \n",
              "  <style>\n",
              "    .colab-df-container {\n",
              "      display:flex;\n",
              "      flex-wrap:wrap;\n",
              "      gap: 12px;\n",
              "    }\n",
              "\n",
              "    .colab-df-convert {\n",
              "      background-color: #E8F0FE;\n",
              "      border: none;\n",
              "      border-radius: 50%;\n",
              "      cursor: pointer;\n",
              "      display: none;\n",
              "      fill: #1967D2;\n",
              "      height: 32px;\n",
              "      padding: 0 0 0 0;\n",
              "      width: 32px;\n",
              "    }\n",
              "\n",
              "    .colab-df-convert:hover {\n",
              "      background-color: #E2EBFA;\n",
              "      box-shadow: 0px 1px 2px rgba(60, 64, 67, 0.3), 0px 1px 3px 1px rgba(60, 64, 67, 0.15);\n",
              "      fill: #174EA6;\n",
              "    }\n",
              "\n",
              "    [theme=dark] .colab-df-convert {\n",
              "      background-color: #3B4455;\n",
              "      fill: #D2E3FC;\n",
              "    }\n",
              "\n",
              "    [theme=dark] .colab-df-convert:hover {\n",
              "      background-color: #434B5C;\n",
              "      box-shadow: 0px 1px 3px 1px rgba(0, 0, 0, 0.15);\n",
              "      filter: drop-shadow(0px 1px 2px rgba(0, 0, 0, 0.3));\n",
              "      fill: #FFFFFF;\n",
              "    }\n",
              "  </style>\n",
              "\n",
              "      <script>\n",
              "        const buttonEl =\n",
              "          document.querySelector('#df-58b4e026-727e-43db-aa45-c815dae24710 button.colab-df-convert');\n",
              "        buttonEl.style.display =\n",
              "          google.colab.kernel.accessAllowed ? 'block' : 'none';\n",
              "\n",
              "        async function convertToInteractive(key) {\n",
              "          const element = document.querySelector('#df-58b4e026-727e-43db-aa45-c815dae24710');\n",
              "          const dataTable =\n",
              "            await google.colab.kernel.invokeFunction('convertToInteractive',\n",
              "                                                     [key], {});\n",
              "          if (!dataTable) return;\n",
              "\n",
              "          const docLinkHtml = 'Like what you see? Visit the ' +\n",
              "            '<a target=\"_blank\" href=https://colab.research.google.com/notebooks/data_table.ipynb>data table notebook</a>'\n",
              "            + ' to learn more about interactive tables.';\n",
              "          element.innerHTML = '';\n",
              "          dataTable['output_type'] = 'display_data';\n",
              "          await google.colab.output.renderOutput(dataTable, element);\n",
              "          const docLink = document.createElement('div');\n",
              "          docLink.innerHTML = docLinkHtml;\n",
              "          element.appendChild(docLink);\n",
              "        }\n",
              "      </script>\n",
              "    </div>\n",
              "  </div>\n",
              "  "
            ]
          },
          "metadata": {},
          "execution_count": 23
        }
      ]
    },
    {
      "cell_type": "code",
      "source": [
        "# Perform KMeans Clustering\n",
        "from sklearn.cluster import KMeans\n",
        "kmeans = KMeans(n_clusters=2)        # Minimum number of clusters that can exist in a dataset\n",
        "\n",
        "# Drop the id column since it is not relevant when forming clusters\n",
        "df_analysis = df.drop('id', axis=1)  \n",
        "\n",
        "# Fit the model into the data\n",
        "kmeans.fit(df_analysis)  \n",
        "\n",
        "# Determine the cluster center vectors\n",
        "print(\"Cluster centers:\")\n",
        "kmeans.cluster_centers_"
      ],
      "metadata": {
        "id": "X5CQrY-XeRQT",
        "colab": {
          "base_uri": "https://localhost:8080/"
        },
        "outputId": "99589b2a-8114-464c-9816-1da01ee50be4"
      },
      "execution_count": 24,
      "outputs": [
        {
          "output_type": "stream",
          "name": "stdout",
          "text": [
            "Cluster centers:\n"
          ]
        },
        {
          "output_type": "execute_result",
          "data": {
            "text/plain": [
              "array([[ 50.04763438,   8.82875   ],\n",
              "       [180.017075  ,  18.29      ]])"
            ]
          },
          "metadata": {},
          "execution_count": 24
        }
      ]
    },
    {
      "cell_type": "code",
      "source": [
        "# Display the labels\n",
        "print(\"Labels:\", kmeans.labels_)\n",
        "print(\"Length of the labels:\", len(kmeans.labels_))"
      ],
      "metadata": {
        "id": "BtH8dBwDkORY",
        "colab": {
          "base_uri": "https://localhost:8080/"
        },
        "outputId": "ff18f863-dde9-40b7-faeb-20a8695225f2"
      },
      "execution_count": 25,
      "outputs": [
        {
          "output_type": "stream",
          "name": "stdout",
          "text": [
            "Labels: [0 0 0 ... 1 1 1]\n",
            "Length of the labels: 4000\n"
          ]
        }
      ]
    },
    {
      "cell_type": "code",
      "source": [
        "# Return how many unique drivers are there in the first and second cluster \n",
        "unique,counts = np.unique(kmeans.labels_, return_counts=True)\n",
        "\n",
        "# Zip the unique number of cluster and their frequency counts within a dictionary\n",
        "print(dict(zip(unique,counts)))"
      ],
      "metadata": {
        "id": "Jc_uS8ozkOPO",
        "colab": {
          "base_uri": "https://localhost:8080/"
        },
        "outputId": "2d58ee8a-1d76-46c6-c79f-efc920b4b976"
      },
      "execution_count": 26,
      "outputs": [
        {
          "output_type": "stream",
          "name": "stdout",
          "text": [
            "{0: 3200, 1: 800}\n"
          ]
        }
      ]
    },
    {
      "cell_type": "code",
      "source": [
        "# Assign a new column with the labels given by KMeans\n",
        "df_analysis['cluster']=kmeans.labels_\n",
        "\n",
        "# Plot the clusters\n",
        "sns.set_style('whitegrid')     # best suited for heavy data elements\n",
        "sns.lmplot('mean_dist_day','mean_over_speed_perc', data=df_analysis, hue='cluster', palette='coolwarm', size=6, aspect=1, fit_reg=False)                      "
      ],
      "metadata": {
        "id": "gPE6g7hkoteF",
        "colab": {
          "base_uri": "https://localhost:8080/",
          "height": 458
        },
        "outputId": "ec9f3c39-445b-4db5-960f-39ea96e66359"
      },
      "execution_count": 27,
      "outputs": [
        {
          "output_type": "execute_result",
          "data": {
            "text/plain": [
              "<seaborn.axisgrid.FacetGrid at 0x7f761b7cedf0>"
            ]
          },
          "metadata": {},
          "execution_count": 27
        },
        {
          "output_type": "display_data",
          "data": {
            "text/plain": [
              "<Figure size 481.8x432 with 1 Axes>"
            ],
            "image/png": "[encoded data removed]"
          },
          "metadata": {}
        }
      ]
    },
    {
      "cell_type": "code",
      "source": [
        "# Check if we get a more accurate result with more clusters\n",
        "\n",
        "# Initialize K Means with 4 clusters\n",
        "kmeans_4 = KMeans(n_clusters=4)\n",
        "\n",
        "# Fit the model\n",
        "kmeans_4.fit(df.drop('id', axis=1))\n",
        "\n",
        "# Determine the cluster center vectors\n",
        "print(\"Cluster centers:\")\n",
        "print(kmeans_4.cluster_centers_)"
      ],
      "metadata": {
        "colab": {
          "base_uri": "https://localhost:8080/"
        },
        "id": "WpfjNZfw2FrO",
        "outputId": "302154d7-80f7-4fb3-a2d3-d0e4bdd6328b"
      },
      "execution_count": 28,
      "outputs": [
        {
          "output_type": "stream",
          "name": "stdout",
          "text": [
            "Cluster centers:\n",
            "[[ 50.49167849  32.49172577]\n",
            " [180.34311782  10.52011494]\n",
            " [ 49.9799964    5.22434282]\n",
            " [177.83509615  70.28846154]]\n"
          ]
        }
      ]
    },
    {
      "cell_type": "code",
      "source": [
        "# Return how many unique drivers are there in the clusters \n",
        "unique,counts = np.unique(kmeans_4.labels_, return_counts=True)\n",
        "\n",
        "# Zip the unique number of cluster and their frequency counts within a dictionary\n",
        "print(dict(zip(unique,counts)))"
      ],
      "metadata": {
        "id": "BO3a3DqUotcG",
        "colab": {
          "base_uri": "https://localhost:8080/"
        },
        "outputId": "8216816a-0004-4567-d65c-4f003ecae93e"
      },
      "execution_count": 29,
      "outputs": [
        {
          "output_type": "stream",
          "name": "stdout",
          "text": [
            "{0: 425, 1: 696, 2: 2775, 3: 104}\n"
          ]
        }
      ]
    },
    {
      "cell_type": "code",
      "source": [
        "# Assign a new column with the labels given by KMeans\n",
        "df_analysis['cluster']=kmeans_4.labels_\n",
        "\n",
        "# Plot the clusters\n",
        "sns.set_style('whitegrid')     # best suited for heavy data elements\n",
        "sns.lmplot('mean_dist_day','mean_over_speed_perc', data=df_analysis, hue='cluster', palette='coolwarm', size=6, aspect=1, fit_reg=False)  "
      ],
      "metadata": {
        "id": "eR0um2iRotaD",
        "colab": {
          "base_uri": "https://localhost:8080/",
          "height": 458
        },
        "outputId": "fc7ac2fc-eab8-4c00-ea5b-0f8111529094"
      },
      "execution_count": 30,
      "outputs": [
        {
          "output_type": "execute_result",
          "data": {
            "text/plain": [
              "<seaborn.axisgrid.FacetGrid at 0x7f761b7ceeb0>"
            ]
          },
          "metadata": {},
          "execution_count": 30
        },
        {
          "output_type": "display_data",
          "data": {
            "text/plain": [
              "<Figure size 481.8x432 with 1 Axes>"
            ],
            "image/png": "[encoded data removed]"
          },
          "metadata": {}
        }
      ]
    }
  ]
}