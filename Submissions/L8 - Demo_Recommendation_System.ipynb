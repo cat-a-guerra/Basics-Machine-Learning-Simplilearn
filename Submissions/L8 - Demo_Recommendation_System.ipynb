{
  "nbformat": 4,
  "nbformat_minor": 0,
  "metadata": {
    "colab": {
      "provenance": []
    },
    "kernelspec": {
      "name": "python3",
      "display_name": "Python 3"
    },
    "language_info": {
      "name": "python"
    }
  },
  "cells": [
    {
      "cell_type": "code",
      "execution_count": null,
      "metadata": {
        "id": "qG6AdihtiKEx"
      },
      "outputs": [],
      "source": [
        "# Import libraries\n",
        "import pandas as pd\n",
        "import numpy as np"
      ]
    },
    {
      "cell_type": "code",
      "source": [
        "# Read file and print resulting dataframe\n",
        "df = pd.read_csv('Recommend.csv')\n",
        "df"
      ],
      "metadata": {
        "id": "-LTsh0cujHgQ"
      },
      "execution_count": null,
      "outputs": []
    },
    {
      "cell_type": "code",
      "source": [
        "# Since we're developing a user-movie recommendation model, we must be aware of the number of users and movies\n",
        "n_users = df.user_id.unique().shape[0]\n",
        "n_movies = df.movie_id.unique().shape[0]"
      ],
      "metadata": {
        "id": "fq1QcPbojHU1"
      },
      "execution_count": null,
      "outputs": []
    },
    {
      "cell_type": "code",
      "source": [
        "# Split the data into training and testing sets\n",
        "from sklearn.model_selection import train_test_split\n",
        "train_data, test_data = train_test_split(df, test_size=0.25)"
      ],
      "metadata": {
        "id": "1OuqaIhsjHIV"
      },
      "execution_count": null,
      "outputs": []
    },
    {
      "cell_type": "code",
      "source": [
        "## Training Data\n",
        "# Create a zero matrix with the dimensions of number of users and number of movies\n",
        "train_data_matrix = np.zeros((n_users, n_movies))\n",
        "\n",
        "# Populate the matrix with ratings such that the User ID index - Movie ID index returns the rating\n",
        "for line in train_data.itertuples():\n",
        "  train_data_matrix[line[1]-1, line[2]-1] = line[3]\n",
        "train_data_matrix"
      ],
      "metadata": {
        "id": "SLpMlaU4kXRr"
      },
      "execution_count": null,
      "outputs": []
    },
    {
      "cell_type": "code",
      "source": [
        "## Test Data\n",
        "# Create a zero matrix with the dimensions of number of users and number of movies\n",
        "test_data_matrix = np.zeros((n_users, n_movies))\n",
        "\n",
        "# Populate the matrix with ratings such that the User ID index - Movie ID index returns the rating\n",
        "for line in test_data.itertuples():\n",
        "  test_data_matrix[line[1]-1, line[2]-1] = line[3]\n",
        "test_data_matrix"
      ],
      "metadata": {
        "id": "ugAY3UiYkXHY"
      },
      "execution_count": null,
      "outputs": []
    },
    {
      "cell_type": "code",
      "source": [
        "# Cosine similarities between users and movies - similarity between non-zero vectors of an inner product space that measures the cosine of an angle between them\n",
        "# The cosine of zero is 1, and it is less than 1 for any angle from 0 to pi radians\n",
        "from sklearn.metrics import pairwise_distances\n",
        "user_similarity = pairwise_distances(train_data_matrix, metric='cosine')\n",
        "movie_similarity = pairwise_distances(train_data_matrix.T, metric='cosine')\n",
        "\n",
        "# Create predictions based on the fact that user-movie collaborative filtering difference from mean rating is a better indicator than absolute rating\n",
        "mean_user_rating = train_data_matrix.mean(axis=1)[:,np.new_axis]\n",
        "ratings_diff = train_data_matrix - mean_user_rating\n",
        "\n",
        "# Calculate user predictions\n",
        "user_pred = mean_user_rating + user_similarity.dot(ratings_diff)/np.array([np.abs(user_similarity).sum(axis=1)]).T\n",
        "\n",
        "# The output matrix describes how those unrelated movies will be rated by users based on their prior rating styles"
      ],
      "metadata": {
        "id": "k5vypiDpkXD7"
      },
      "execution_count": null,
      "outputs": []
    }
  ]
}